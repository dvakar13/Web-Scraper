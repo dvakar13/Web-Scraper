{
  "nbformat": 4,
  "nbformat_minor": 0,
  "metadata": {
    "colab": {
      "name": "web scrap.ipynb",
      "provenance": [],
      "authorship_tag": "ABX9TyMbNzg4FUOZEyiMOjxczoC/"
    },
    "kernelspec": {
      "name": "python3",
      "display_name": "Python 3"
    },
    "language_info": {
      "name": "python"
    }
  },
  "cells": [
    {
      "cell_type": "code",
      "execution_count": 1,
      "metadata": {
        "id": "KuX-Twut-FCe"
      },
      "outputs": [],
      "source": [
        "import requests\n",
        "from bs4 import BeautifulSoup"
      ]
    },
    {
      "cell_type": "code",
      "source": [
        "URL = \"https://realpython.github.io/fake-jobs/\"\n",
        "page = requests.get(URL)\n",
        "soup = BeautifulSoup(page.content, \"html.parser\")"
      ],
      "metadata": {
        "id": "BwJ_riZs-V-y"
      },
      "execution_count": 2,
      "outputs": []
    },
    {
      "cell_type": "code",
      "source": [
        "results = soup.find(id=\"ResultsContainer\")\n",
        "job_elements = results.find_all(\"div\", class_=\"card-content\")"
      ],
      "metadata": {
        "id": "R_AxbUL1-gUS"
      },
      "execution_count": 3,
      "outputs": []
    },
    {
      "cell_type": "code",
      "source": [
        "python_jobs = results.find_all(\n",
        "    \"h2\", string=lambda text: \"python\" in text.lower()\n",
        ")\n",
        "python_job_elements = [\n",
        "    h2_element.parent.parent.parent for h2_element in python_jobs\n",
        "]"
      ],
      "metadata": {
        "id": "J56N3NA0CzCk"
      },
      "execution_count": 4,
      "outputs": []
    },
    {
      "cell_type": "code",
      "source": [
        "for job_element in python_job_elements:\n",
        "    title_element = job_element.find(\"h2\", class_=\"title\")\n",
        "    company_element = job_element.find(\"h3\", class_=\"company\")\n",
        "    location_element = job_element.find(\"p\", class_=\"location\")\n",
        "    link_url = job_element.find_all(\"a\")[1][\"href\"]\n",
        "    links = job_element.find_all(\"a\") # 2 links\n",
        "    print(f\"Apply here: {link_url}\\n\")"
      ],
      "metadata": {
        "colab": {
          "base_uri": "https://localhost:8080/"
        },
        "id": "YlFX4-LcSB_O",
        "outputId": "e371e045-7029-4ddd-bf30-563d11a7f0bb"
      },
      "execution_count": 5,
      "outputs": [
        {
          "output_type": "stream",
          "name": "stdout",
          "text": [
            "Apply here: https://realpython.github.io/fake-jobs/jobs/senior-python-developer-0.html\n",
            "\n",
            "Apply here: https://realpython.github.io/fake-jobs/jobs/software-engineer-python-10.html\n",
            "\n",
            "Apply here: https://realpython.github.io/fake-jobs/jobs/python-programmer-entry-level-20.html\n",
            "\n",
            "Apply here: https://realpython.github.io/fake-jobs/jobs/python-programmer-entry-level-30.html\n",
            "\n",
            "Apply here: https://realpython.github.io/fake-jobs/jobs/software-developer-python-40.html\n",
            "\n",
            "Apply here: https://realpython.github.io/fake-jobs/jobs/python-developer-50.html\n",
            "\n",
            "Apply here: https://realpython.github.io/fake-jobs/jobs/back-end-web-developer-python-django-60.html\n",
            "\n",
            "Apply here: https://realpython.github.io/fake-jobs/jobs/back-end-web-developer-python-django-70.html\n",
            "\n",
            "Apply here: https://realpython.github.io/fake-jobs/jobs/python-programmer-entry-level-80.html\n",
            "\n",
            "Apply here: https://realpython.github.io/fake-jobs/jobs/software-developer-python-90.html\n",
            "\n"
          ]
        }
      ]
    }
  ]
}